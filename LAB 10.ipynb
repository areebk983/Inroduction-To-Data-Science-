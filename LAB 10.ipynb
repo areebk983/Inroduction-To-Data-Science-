{
  "nbformat": 4,
  "nbformat_minor": 0,
  "metadata": {
    "colab": {
      "provenance": [],
      "include_colab_link": true
    },
    "kernelspec": {
      "name": "python3",
      "display_name": "Python 3"
    }
  },
  "cells": [
    {
      "cell_type": "markdown",
      "metadata": {
        "id": "view-in-github",
        "colab_type": "text"
      },
      "source": [
        "<a href=\"https://colab.research.google.com/github/areebk983/Inroduction-To-Data-Science-/blob/main/LAB%2010.ipynb\" target=\"_parent\"><img src=\"https://colab.research.google.com/assets/colab-badge.svg\" alt=\"Open In Colab\"/></a>"
      ]
    },
    {
      "cell_type": "markdown",
      "metadata": {
        "id": "lGjlNDuSFdXx"
      },
      "source": [
        "# Loop Challenges\n",
        "\n",
        "---\n",
        "\n",
        "Each of these challenges will need a loop.  This may be a **while** loop or a **for** loop, you will need to decide which is needed."
      ]
    },
    {
      "cell_type": "markdown",
      "metadata": {
        "id": "nSx5LRcdLzx-"
      },
      "source": [
        "---\n",
        "## Challenge 1 - Sum of random numbers\n",
        "Write a function called **random_generator()** where python generates random numbers between 1 and 100 until the number 1 is generated.\n",
        "\n",
        "* use `randint(1, 100)` to generate random numbers\n",
        "* keep a running `total` - add numbers as they are generated\n",
        "* print `total` at the end\n",
        "* print the final generated number (should be 1) to check your function is working\n",
        "\n",
        "Example input (computer):\n",
        "\n",
        "10  \n",
        "78  \n",
        "6  \n",
        "42  \n",
        "56  \n",
        "81  \n",
        "15   \n",
        "1  \n",
        "\n",
        "Expected output:  \n",
        "\n",
        "289  \n",
        "1  "
      ]
    },
    {
      "cell_type": "code",
      "metadata": {
        "id": "FRRBydPTN3cv",
        "outputId": "a780411b-70c4-48f2-a51c-fefec13eaedd",
        "colab": {
          "base_uri": "https://localhost:8080/"
        }
      },
      "source": [
        "import random\n",
        "\n",
        "def random_generator():\n",
        "    total = 0\n",
        "\n",
        "    while True:\n",
        "        num = random.randint(1, 100)\n",
        "        total += num\n",
        "        if num == 1:\n",
        "            break\n",
        "\n",
        "    print(total)\n",
        "    print(num)\n",
        "\n",
        "random_generator()\n"
      ],
      "execution_count": 3,
      "outputs": [
        {
          "output_type": "stream",
          "name": "stdout",
          "text": [
            "3131\n",
            "1\n"
          ]
        }
      ]
    },
    {
      "cell_type": "markdown",
      "metadata": {
        "id": "aX8me4xxPMc0"
      },
      "source": [
        "---\n",
        "## Challenge 2 - Factorials\n",
        "\n",
        "Factorial of any number n is represented by n! and is equal to 1*2*3*....*(n-1)*n.\n",
        "\n",
        "E.g.   \n",
        "* 4! = 1 * 2 * 3 * 4 = 24  \n",
        "* 3! = 3 * 2 * 1 = 6\n",
        "* 2! = 2 * 1 = 2  \n",
        " Also,\n",
        "* 1! = 1\n",
        "* 0! = 1\n",
        "\n",
        "Write a function called **calculate_factorial()** which calculates the factorial of a user inputed number.\n",
        "\n",
        "* use a *while* loop to control repetition while the number being multiplied by is less than or equal to the number it is finding the factorial of, multiply each time round the loop  \n",
        "* print the answer at the end\n",
        "\n",
        "Test input:  \n",
        "\n",
        "6   \n",
        "10  \n",
        "1  \n",
        "0  \n",
        "\n",
        "Expected output:  \n",
        "\n",
        "720  \n",
        "3,628,800  \n",
        "1  \n",
        "1  \n",
        "\n",
        "### Extra challenge\n",
        "\n",
        "Can you write a function to calculate factorials but using a *for* loop instead?\n",
        "\n",
        "\n"
      ]
    },
    {
      "cell_type": "code",
      "metadata": {
        "id": "qcXqzf_lQDOv",
        "outputId": "bf1ebfd0-9f3d-4fc1-9a13-64e261ad212f",
        "colab": {
          "base_uri": "https://localhost:8080/"
        }
      },
      "source": [
        "def calculate_factorial():\n",
        "\n",
        "    num = int(input(\"Enter a number: \"))\n",
        "\n",
        "\n",
        "    factorial = 1\n",
        "\n",
        "\n",
        "    i = 1\n",
        "    while i <= num:\n",
        "        factorial *= i\n",
        "        i += 1\n",
        "\n",
        "\n",
        "    print(f\"The factorial of {num} is: {factorial}\")\n",
        "\n",
        "\n",
        "calculate_factorial()\n"
      ],
      "execution_count": 6,
      "outputs": [
        {
          "output_type": "stream",
          "name": "stdout",
          "text": [
            "Enter a number: 6\n",
            "The factorial of 6 is: 720\n"
          ]
        }
      ]
    },
    {
      "cell_type": "markdown",
      "metadata": {
        "id": "q1q-bTvERBHm"
      },
      "source": [
        "---\n",
        "## Challenge 3 - rolling a dice\n",
        "\n",
        "Write a function called **roll_dice()** that will use the `randint()` function from random to create random dice rolls for two dice.\n",
        "\n",
        "*  'roll' the two dice 6 times and count how many doubles were rolled in those 6 rolls.\n",
        "*  use a *for* loop\n",
        "\n",
        "*Hint: to throw a dice use the following:*\n",
        "\n",
        "`dice1 = randint(1,6)`\n",
        "\n",
        "Example input (computer):  \n",
        "\n",
        "4 1   \n",
        "5 5   \n",
        "6 3   \n",
        "2 2   \n",
        "3 4  \n",
        "1 1\n",
        "\n",
        "Expected output:\n",
        "\n",
        "3   "
      ]
    },
    {
      "cell_type": "code",
      "metadata": {
        "id": "tppPCMWHR5Vv",
        "outputId": "4df4aee0-bc20-4afa-e64a-576923315003",
        "colab": {
          "base_uri": "https://localhost:8080/"
        }
      },
      "source": [
        "import random\n",
        "\n",
        "def roll_dice():\n",
        "\n",
        "    doubles_count = 0\n",
        "\n",
        "\n",
        "    for _ in range(6):\n",
        "\n",
        "        dice1 = random.randint(1, 6)\n",
        "        dice2 = random.randint(1, 6)\n",
        "\n",
        "\n",
        "        print(dice1, dice2)\n",
        "\n",
        "\n",
        "        if dice1 == dice2:\n",
        "            doubles_count += 1\n",
        "\n",
        "\n",
        "    print(doubles_count)\n",
        "\n",
        "\n",
        "roll_dice()\n"
      ],
      "execution_count": 7,
      "outputs": [
        {
          "output_type": "stream",
          "name": "stdout",
          "text": [
            "3 6\n",
            "5 4\n",
            "3 1\n",
            "6 3\n",
            "6 3\n",
            "2 4\n",
            "0\n"
          ]
        }
      ]
    },
    {
      "cell_type": "markdown",
      "metadata": {
        "id": "Kn0hb-ORSETx"
      },
      "source": [
        "---\n",
        "## Challenge 4 - fizz buzz\n",
        "\n",
        "Write a function called **fizz_buzz()** using a *for* loop which:\n",
        "\n",
        "* iterates over the numbers 1 to 30   \n",
        "* if the **number** is a multiple of 3 - print \"fizz\" instead of the `number`  \n",
        "* if it is a multiple of 5 - print \"buzz\" instead of the `number`   \n",
        "* if it is a multiple of both 3 and 5 - print \"fizzbuzz\" instead of the `number`    \n",
        "\n",
        "Expected Output:   \n",
        "1  \n",
        "2  \n",
        "fizz  \n",
        "4  \n",
        "buzz  \n",
        "fizz  \n",
        "7  \n",
        "8  \n",
        "fizz  \n",
        "buzz  \n",
        "11  \n",
        "fizz  \n",
        "13  \n",
        "14  \n",
        "fizzbuzz  \n",
        "16  \n",
        "17  \n",
        "fizz  \n",
        "19  \n",
        "buzz  \n",
        "fizz  \n",
        "22  \n",
        "23  \n",
        "fizz  \n",
        "buzz  \n",
        "26  \n",
        "fizz  \n",
        "28  \n",
        "29  \n",
        "fizzbuzz  "
      ]
    },
    {
      "cell_type": "code",
      "metadata": {
        "id": "L3CBRgNdSZhy",
        "outputId": "60cfcb9d-37c8-4c2e-fda6-32285fc4bf6a",
        "colab": {
          "base_uri": "https://localhost:8080/"
        }
      },
      "source": [
        "def fizz_buzz():\n",
        "\n",
        "    for i in range(1, 31):\n",
        "\n",
        "        if i % 3 == 0 and i % 5 == 0:\n",
        "            print(\"fizzbuzz\")\n",
        "\n",
        "        elif i % 3 == 0:\n",
        "            print(\"fizz\")\n",
        "\n",
        "        elif i % 5 == 0:\n",
        "            print(\"buzz\")\n",
        "\n",
        "        else:\n",
        "            print(i)\n",
        "\n",
        "\n",
        "fizz_buzz()\n"
      ],
      "execution_count": 8,
      "outputs": [
        {
          "output_type": "stream",
          "name": "stdout",
          "text": [
            "1\n",
            "2\n",
            "fizz\n",
            "4\n",
            "buzz\n",
            "fizz\n",
            "7\n",
            "8\n",
            "fizz\n",
            "buzz\n",
            "11\n",
            "fizz\n",
            "13\n",
            "14\n",
            "fizzbuzz\n",
            "16\n",
            "17\n",
            "fizz\n",
            "19\n",
            "buzz\n",
            "fizz\n",
            "22\n",
            "23\n",
            "fizz\n",
            "buzz\n",
            "26\n",
            "fizz\n",
            "28\n",
            "29\n",
            "fizzbuzz\n"
          ]
        }
      ]
    },
    {
      "cell_type": "markdown",
      "metadata": {
        "id": "xFo3wYgkTBLs"
      },
      "source": [
        "---\n",
        "## Challenge 5 - perfect numbers\n",
        "\n",
        "Write a function called **check_perfect()** which checks whether a given number is perfect or not.\n",
        "\n",
        "* *a perfect number is a positive integer that is equal to the sum of its positive factors (factors > 0) excluding the number itself.*\n",
        "* *it is also half the sum of all positive factors including itself*\n",
        "\n",
        "\n",
        "*For example:*  \n",
        "*6 is a perfect number. It's only factors are 1, 2 & 3.   \n",
        "1 + 2 + 3 = 6  \n",
        "(1 + 2 + 3 + 6)/2 =6*  \n",
        "\n",
        "**Your function will:**\n",
        "\n",
        "* ask the user to input a **number**\n",
        "* find all of the given numbers that are positive factors, adding them together as it goes through the loop\n",
        "* check whether `number` is perfect or not (both checks)  \n",
        "* print either `number` is perfect or `number` is not perfect\n",
        "\n",
        "Test input:  \n",
        "6   \n",
        "23   \n",
        "28\n",
        "\n",
        "Expected output:  \n",
        "6 is perfect   \n",
        "23 is not perfect  \n",
        "28 is perfect    \n",
        "\n",
        "\n",
        "\n"
      ]
    },
    {
      "cell_type": "code",
      "metadata": {
        "id": "RsYuicPCWHqo",
        "outputId": "decf8cf4-b538-4ff3-8375-cede117bc34e",
        "colab": {
          "base_uri": "https://localhost:8080/"
        }
      },
      "source": [
        "def check_perfect():\n",
        "\n",
        "    number = int(input(\"Enter a number: \"))\n",
        "\n",
        "\n",
        "    sum_of_factors = 0\n",
        "\n",
        "\n",
        "    for i in range(1, number):\n",
        "        if number % i == 0:\n",
        "            sum_of_factors += i\n",
        "\n",
        "\n",
        "    if sum_of_factors == number:\n",
        "        print(f\"{number} is perfect\")\n",
        "    else:\n",
        "        print(f\"{number} is not perfect\")\n",
        "\n",
        "\n",
        "check_perfect()\n"
      ],
      "execution_count": 9,
      "outputs": [
        {
          "output_type": "stream",
          "name": "stdout",
          "text": [
            "Enter a number: 34\n",
            "34 is not perfect\n"
          ]
        }
      ]
    },
    {
      "cell_type": "markdown",
      "metadata": {
        "id": "i8sxKhcEH11h"
      },
      "source": [
        "## Challenge 6 - Passcode   \n",
        "\n",
        "Write a function called **guess_letter(passcode, missing_letter)** which will allow a user to play a game with the computer.  \n",
        "\n",
        "* the computer needs to 'generate' a random passcode with a missing letter (this is done for you)   \n",
        "* the user has up to three attempts to guess the missing letter in a passcode.  \n",
        "\n",
        "### the passcode generator  \n",
        "\n",
        "This code is given to you and will choose 4 letters in the range A-Z (capitals only) and randomly selecting one to be replaced by a *  \n",
        "\n",
        "**Your function should follow these rules:**\n",
        "\n",
        "*  ask the user to enter the missing **letter**  \n",
        "*  count the **attempt**  \n",
        "* if the letter is correct, print the message \"Correct passcode\" and then stop    \n",
        "* if the letter is incorrect, print the message, \"You have `attempts` attempts left\"  \n",
        "* if three wrong attempts have been made and the user hasn't entered the correct letter, print \"No more attempts\"  \n",
        "\n",
        "Example input (computer):  \n",
        "\n",
        "NR*R , B\n",
        "\n",
        "Example input (user):  \n",
        "A    \n",
        "B  \n",
        "C  \n",
        "\n",
        "Expected output:  \n",
        "No more attempts   \n",
        "\n",
        "Example input (computer):  \n",
        "A*RD , T  \n",
        "\n",
        "Example input (user):  \n",
        "T    \n",
        "\n",
        "Expected output:  \n",
        "Correct passcode  \n",
        "\n",
        "Example input (computer):  \n",
        "*FES , F  \n",
        "\n",
        "Example input (user):  \n",
        "T\n",
        "F    \n",
        "\n",
        "Expected output:  \n",
        "You have 2 attempts left\n",
        "Correct passcode"
      ]
    },
    {
      "cell_type": "code",
      "metadata": {
        "id": "NJp2CgvtKP2Q",
        "outputId": "47282e92-a963-4858-fb3f-03c12cb25206",
        "colab": {
          "base_uri": "https://localhost:8080/"
        }
      },
      "source": [
        "import random\n",
        "import string\n",
        "\n",
        "def guess_letter(passcode, missing_letter):\n",
        "\n",
        "    attempts = 3\n",
        "\n",
        "\n",
        "    print(f\"Passcode: {passcode}\")\n",
        "\n",
        "\n",
        "    while attempts > 0:\n",
        "\n",
        "        guess = input(\"Guess the missing letter: \").upper()\n",
        "\n",
        "\n",
        "        if guess == missing_letter:\n",
        "            print(\"Correct passcode\")\n",
        "            break\n",
        "        else:\n",
        "            attempts -= 1\n",
        "            if attempts > 0:\n",
        "                print(f\"You have {attempts} attempts left\")\n",
        "            else:\n",
        "                print(\"No more attempts\")\n",
        "\n",
        "\n",
        "\n",
        "def generate_passcode():\n",
        "\n",
        "    letters = random.choices(string.ascii_uppercase, k=4)\n",
        "    missing_index = random.randint(0, 3)\n",
        "    missing_letter = letters[missing_index]\n",
        "    letters[missing_index] = '*'\n",
        "    passcode = ''.join(letters)\n",
        "    return passcode, missing_letter\n",
        "\n",
        "\n",
        "passcode, missing_letter = generate_passcode()\n",
        "guess_letter(passcode, missing_letter)\n"
      ],
      "execution_count": 11,
      "outputs": [
        {
          "output_type": "stream",
          "name": "stdout",
          "text": [
            "Passcode: PEB*\n",
            "Guess the missing letter: w\n",
            "You have 2 attempts left\n",
            "Guess the missing letter: e\n",
            "You have 1 attempts left\n",
            "Guess the missing letter: r\n",
            "No more attempts\n"
          ]
        }
      ]
    }
  ]
}