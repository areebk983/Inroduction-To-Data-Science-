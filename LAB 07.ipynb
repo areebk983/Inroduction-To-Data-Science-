{
  "nbformat": 4,
  "nbformat_minor": 0,
  "metadata": {
    "colab": {
      "provenance": [],
      "include_colab_link": true
    },
    "kernelspec": {
      "name": "python3",
      "display_name": "Python 3"
    }
  },
  "cells": [
    {
      "cell_type": "markdown",
      "metadata": {
        "id": "view-in-github",
        "colab_type": "text"
      },
      "source": [
        "<a href=\"https://colab.research.google.com/github/areebk983/Inroduction-To-Data-Science-/blob/main/LAB%2007.ipynb\" target=\"_parent\"><img src=\"https://colab.research.google.com/assets/colab-badge.svg\" alt=\"Open In Colab\"/></a>"
      ]
    },
    {
      "cell_type": "markdown",
      "metadata": {
        "id": "-QxAKPD8DZfj"
      },
      "source": [
        "# Three selection challenges\n",
        "\n",
        "---\n"
      ]
    },
    {
      "cell_type": "markdown",
      "metadata": {
        "id": "2KYUALILDcM9"
      },
      "source": [
        "### Challenge 1 - password format  \n",
        "\n",
        "Write a function called **check_password_valid()** which will check the validity of a **password** input by a user.\n",
        "\n",
        "Rules for a valid password are:  \n",
        "\n",
        "*  At least 1 letter between [a-z] and 1 letter between [A-Z].\n",
        "*  At least 1 number between [0-9].\n",
        "*  At least 1 character from [$#@].\n",
        "*  Minimum length 6 characters.\n",
        "*  Maximum length 16 characters.  \n",
        "\n",
        "Let the user know if the `password` they have typed is valid and, if not, where was the first error.\n",
        "\n",
        "*Hint:  to test if a set of characters is present in a password String, you can use re.search('[character set]', `password`)*  \n",
        "\n",
        "Example:   \n",
        "*if re.search('[a-z]',`password`):*    \n",
        "if there is at least 1 character a-z in the password, re.search will not be None.\n",
        "\n",
        "**re** is a pre-written Python function for pattern searching in Strings.  It has been imported for you in the code cell below.  "
      ]
    },
    {
      "cell_type": "code",
      "metadata": {
        "id": "8wBK9IA4BO2e",
        "outputId": "5cdc2c84-19bf-4ebe-f7dc-467777dee528",
        "colab": {
          "base_uri": "https://localhost:8080/"
        }
      },
      "source": [
        "import re\n",
        "\n",
        "def check_password_valid():\n",
        "\n",
        "    password = input(\"Enter a password: \")\n",
        "\n",
        "\n",
        "    if len(password) < 6:\n",
        "        print(\"Password must be at least 6 characters long.\")\n",
        "        return\n",
        "    elif len(password) > 16:\n",
        "        print(\"Password must be at most 16 characters long.\")\n",
        "        return\n",
        "\n",
        "\n",
        "    if not re.search('[a-z]', password):\n",
        "        print(\"Password must contain at least one lowercase letter.\")\n",
        "        return\n",
        "\n",
        "\n",
        "    if not re.search('[A-Z]', password):\n",
        "        print(\"Password must contain at least one uppercase letter.\")\n",
        "        return\n",
        "\n",
        "\n",
        "    if not re.search('[0-9]', password):\n",
        "        print(\"Password must contain at least one number.\")\n",
        "        return\n",
        "\n",
        "\n",
        "    if not re.search('[$#@]', password):\n",
        "        print(\"Password must contain at least one special character from [$#@].\")\n",
        "        return\n",
        "\n",
        "    print(\"Password is valid.\")\n",
        "\n",
        "\n",
        "check_password_valid()\n"
      ],
      "execution_count": 1,
      "outputs": [
        {
          "output_type": "stream",
          "name": "stdout",
          "text": [
            "Enter a password: Areeb&1234\n",
            "Password must contain at least one special character from [$#@].\n"
          ]
        }
      ]
    },
    {
      "cell_type": "markdown",
      "metadata": {
        "id": "f0R4GYTEFQS-"
      },
      "source": [
        "---\n",
        "### Challenge 2 - triangle shape  \n",
        "\n",
        "Write a function called **evaluate_triangle_shape()** which will check if a triangle is equilateral, isosceles or scalene, based on the three side lengths entered by a user (**x**, **y** and **z**.\n",
        "\n",
        "An equilateral triangle is a triangle in which all three sides are equal.\n",
        "A scalene triangle is a triangle that has three unequal sides.\n",
        "An isosceles triangle is a triangle with (at least) two equal sides.\n",
        "\n",
        "For example:  \n",
        "A triange with side lengths                                 \n",
        "x: 6                                                                    \n",
        "y: 8                                                                    \n",
        "z: 12                                                                   \n",
        "is a *Scalene triangle*\n",
        "\n",
        "A triangle with side lengths\n",
        "x:5  \n",
        "y:3   \n",
        "z:5  \n",
        "is an *Isosceles triangle*"
      ]
    },
    {
      "cell_type": "code",
      "metadata": {
        "id": "oBgl4ro1DVL0",
        "outputId": "c16b4af4-cfcc-47b2-9839-3737b3dcdc7e",
        "colab": {
          "base_uri": "https://localhost:8080/"
        }
      },
      "source": [
        "def evaluate_triangle_shape():\n",
        "\n",
        "    x = float(input(\"Enter the length of side x: \"))\n",
        "    y = float(input(\"Enter the length of side y: \"))\n",
        "    z = float(input(\"Enter the length of side z: \"))\n",
        "\n",
        "\n",
        "    if x == y == z:\n",
        "        print(\"The triangle is Equilateral.\")\n",
        "\n",
        "    elif x == y or y == z or x == z:\n",
        "        print(\"The triangle is Isosceles.\")\n",
        "\n",
        "    else:\n",
        "        print(\"The triangle is Scalene.\")\n",
        "\n",
        "\n",
        "evaluate_triangle_shape()\n"
      ],
      "execution_count": 2,
      "outputs": [
        {
          "output_type": "stream",
          "name": "stdout",
          "text": [
            "Enter the length of side x: 4\n",
            "Enter the length of side y: 5\n",
            "Enter the length of side z: 5\n",
            "The triangle is Isosceles.\n"
          ]
        }
      ]
    },
    {
      "cell_type": "markdown",
      "metadata": {
        "id": "hr2EotkqG33l"
      },
      "source": [
        "---\n",
        "### Challenge 3 - which season\n",
        "\n",
        "Write a function called **determine_season()** which will ask the user to enter two integers representing a **month** and **day** and prints the season for that month and day.\n",
        "\n",
        "Note:  for this exercise the season dates are:\n",
        "*  Winter December 21 to March 20    \n",
        "*  Spring March 21 to June 20  \n",
        "*  Summer June 21 to September 20  \n",
        "*  Autumn September 21 to December 20\n",
        "\n",
        "Test input:  \n",
        "Input the month (e.g. January, February etc.): 7                     \n",
        "Input the day: 31                                                       \n",
        "\n",
        "Expected output:  \n",
        "Season is summer\n",
        "\n",
        "*Note: this will require multiple and or or operators and you should use brackets to help Python know which operations to do first*  \n",
        "\n",
        "*For an extra challenge you can check that the day is valid for the month*"
      ]
    },
    {
      "cell_type": "code",
      "metadata": {
        "id": "cvbfz8nzG4IL",
        "outputId": "1ac58df3-1b0b-421d-ac92-a2bc2d9ad2ad",
        "colab": {
          "base_uri": "https://localhost:8080/"
        }
      },
      "source": [
        "def determine_season():\n",
        "    # Ask the user for the month and day\n",
        "    month = int(input(\"Input the month (1 for January, 2 for February, etc.): \"))\n",
        "    day = int(input(\"Input the day: \"))\n",
        "\n",
        "\n",
        "    if month < 1 or month > 12 or day < 1 or day > 31:\n",
        "        print(\"Invalid month or day.\")\n",
        "        return\n",
        "\n",
        "\n",
        "    if (month == 12 and day >= 21) or (1 <= month <= 3) or (month == 3 and day <= 20):\n",
        "        print(\"Season is winter\")\n",
        "    elif (month == 3 and day >= 21) or (4 <= month <= 6) or (month == 6 and day <= 20):\n",
        "        print(\"Season is spring\")\n",
        "    elif (month == 6 and day >= 21) or (7 <= month <= 9) or (month == 9 and day <= 20):\n",
        "        print(\"Season is summer\")\n",
        "    else:\n",
        "        print(\"Season is autumn\")\n",
        "\n",
        "\n",
        "determine_season()\n"
      ],
      "execution_count": 3,
      "outputs": [
        {
          "output_type": "stream",
          "name": "stdout",
          "text": [
            "Input the month (1 for January, 2 for February, etc.): 4\n",
            "Input the day: 5\n",
            "Season is spring\n"
          ]
        }
      ]
    }
  ]
}